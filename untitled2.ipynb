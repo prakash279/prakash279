{
  "nbformat": 4,
  "nbformat_minor": 0,
  "metadata": {
    "colab": {
      "provenance": [],
      "toc_visible": true,
      "include_colab_link": true
    },
    "kernelspec": {
      "name": "python3",
      "display_name": "Python 3"
    },
    "language_info": {
      "name": "python"
    }
  },
  "cells": [
    {
      "cell_type": "markdown",
      "metadata": {
        "id": "view-in-github",
        "colab_type": "text"
      },
      "source": [
        "<a href=\"https://colab.research.google.com/github/prakash279/prakash279/blob/main/untitled2.ipynb\" target=\"_parent\"><img src=\"https://colab.research.google.com/assets/colab-badge.svg\" alt=\"Open In Colab\"/></a>"
      ]
    },
    {
      "cell_type": "code",
      "execution_count": 4,
      "metadata": {
        "colab": {
          "base_uri": "https://localhost:8080/",
          "height": 708
        },
        "id": "teK-9ZmMSWtj",
        "outputId": "59bae6a3-c911-457e-b19e-4340c2da78cf"
      },
      "outputs": [
        {
          "output_type": "execute_result",
          "data": {
            "text/plain": [
              "                                                Title\n",
              "0   Our editors will review what you’ve submitted ...\n",
              "1    Our editors will review what you’ve submitted...\n",
              "2                                         Tesla, Inc.\n",
              "3    , formerly (2003–17) Tesla Motors,  American ...\n",
              "4     It was founded in 2003 by American entrepren...\n",
              "5    Tesla Motors was formed to develop an electri...\n",
              "6     Eberhard was Tesla’s chief executive officer...\n",
              "7     Funding for the company was obtained from a ...\n",
              "8    In 2008 Tesla Motors released its first car, ...\n",
              "9     In company tests, it achieved 245 miles (394...\n",
              "10    Additional tests showed that its performance...\n",
              "11    The lightweight car body was made of carbon ...\n",
              "12    The Roadster produced no tailpipe emissions,...\n",
              "13    Tesla Motors found that the car attained eff...\n",
              "14    The vehicle’s electric motor was powered by ...\n",
              "15    Despite a federal tax credit of $7,500 for p...\n",
              "16   In late 2007 Eberhard resigned as CEO and pre...\n",
              "17    It was announced in 2008 that he had left th...\n",
              "18    Tarpenning, who was vice president of electr...\n",
              "19                             Musk took over as CEO.\n",
              "20    In 2010 Tesla’s initial public offering rais..."
            ],
            "text/html": [
              "\n",
              "  <div id=\"df-b36a56e1-df73-4d5d-8021-b2f672821391\">\n",
              "    <div class=\"colab-df-container\">\n",
              "      <div>\n",
              "<style scoped>\n",
              "    .dataframe tbody tr th:only-of-type {\n",
              "        vertical-align: middle;\n",
              "    }\n",
              "\n",
              "    .dataframe tbody tr th {\n",
              "        vertical-align: top;\n",
              "    }\n",
              "\n",
              "    .dataframe thead th {\n",
              "        text-align: right;\n",
              "    }\n",
              "</style>\n",
              "<table border=\"1\" class=\"dataframe\">\n",
              "  <thead>\n",
              "    <tr style=\"text-align: right;\">\n",
              "      <th></th>\n",
              "      <th>Title</th>\n",
              "    </tr>\n",
              "  </thead>\n",
              "  <tbody>\n",
              "    <tr>\n",
              "      <th>0</th>\n",
              "      <td>Our editors will review what you’ve submitted ...</td>\n",
              "    </tr>\n",
              "    <tr>\n",
              "      <th>1</th>\n",
              "      <td>Our editors will review what you’ve submitted...</td>\n",
              "    </tr>\n",
              "    <tr>\n",
              "      <th>2</th>\n",
              "      <td>Tesla, Inc.</td>\n",
              "    </tr>\n",
              "    <tr>\n",
              "      <th>3</th>\n",
              "      <td>, formerly (2003–17) Tesla Motors,  American ...</td>\n",
              "    </tr>\n",
              "    <tr>\n",
              "      <th>4</th>\n",
              "      <td>It was founded in 2003 by American entrepren...</td>\n",
              "    </tr>\n",
              "    <tr>\n",
              "      <th>5</th>\n",
              "      <td>Tesla Motors was formed to develop an electri...</td>\n",
              "    </tr>\n",
              "    <tr>\n",
              "      <th>6</th>\n",
              "      <td>Eberhard was Tesla’s chief executive officer...</td>\n",
              "    </tr>\n",
              "    <tr>\n",
              "      <th>7</th>\n",
              "      <td>Funding for the company was obtained from a ...</td>\n",
              "    </tr>\n",
              "    <tr>\n",
              "      <th>8</th>\n",
              "      <td>In 2008 Tesla Motors released its first car, ...</td>\n",
              "    </tr>\n",
              "    <tr>\n",
              "      <th>9</th>\n",
              "      <td>In company tests, it achieved 245 miles (394...</td>\n",
              "    </tr>\n",
              "    <tr>\n",
              "      <th>10</th>\n",
              "      <td>Additional tests showed that its performance...</td>\n",
              "    </tr>\n",
              "    <tr>\n",
              "      <th>11</th>\n",
              "      <td>The lightweight car body was made of carbon ...</td>\n",
              "    </tr>\n",
              "    <tr>\n",
              "      <th>12</th>\n",
              "      <td>The Roadster produced no tailpipe emissions,...</td>\n",
              "    </tr>\n",
              "    <tr>\n",
              "      <th>13</th>\n",
              "      <td>Tesla Motors found that the car attained eff...</td>\n",
              "    </tr>\n",
              "    <tr>\n",
              "      <th>14</th>\n",
              "      <td>The vehicle’s electric motor was powered by ...</td>\n",
              "    </tr>\n",
              "    <tr>\n",
              "      <th>15</th>\n",
              "      <td>Despite a federal tax credit of $7,500 for p...</td>\n",
              "    </tr>\n",
              "    <tr>\n",
              "      <th>16</th>\n",
              "      <td>In late 2007 Eberhard resigned as CEO and pre...</td>\n",
              "    </tr>\n",
              "    <tr>\n",
              "      <th>17</th>\n",
              "      <td>It was announced in 2008 that he had left th...</td>\n",
              "    </tr>\n",
              "    <tr>\n",
              "      <th>18</th>\n",
              "      <td>Tarpenning, who was vice president of electr...</td>\n",
              "    </tr>\n",
              "    <tr>\n",
              "      <th>19</th>\n",
              "      <td>Musk took over as CEO.</td>\n",
              "    </tr>\n",
              "    <tr>\n",
              "      <th>20</th>\n",
              "      <td>In 2010 Tesla’s initial public offering rais...</td>\n",
              "    </tr>\n",
              "  </tbody>\n",
              "</table>\n",
              "</div>\n",
              "      <button class=\"colab-df-convert\" onclick=\"convertToInteractive('df-b36a56e1-df73-4d5d-8021-b2f672821391')\"\n",
              "              title=\"Convert this dataframe to an interactive table.\"\n",
              "              style=\"display:none;\">\n",
              "        \n",
              "  <svg xmlns=\"http://www.w3.org/2000/svg\" height=\"24px\"viewBox=\"0 0 24 24\"\n",
              "       width=\"24px\">\n",
              "    <path d=\"M0 0h24v24H0V0z\" fill=\"none\"/>\n",
              "    <path d=\"M18.56 5.44l.94 2.06.94-2.06 2.06-.94-2.06-.94-.94-2.06-.94 2.06-2.06.94zm-11 1L8.5 8.5l.94-2.06 2.06-.94-2.06-.94L8.5 2.5l-.94 2.06-2.06.94zm10 10l.94 2.06.94-2.06 2.06-.94-2.06-.94-.94-2.06-.94 2.06-2.06.94z\"/><path d=\"M17.41 7.96l-1.37-1.37c-.4-.4-.92-.59-1.43-.59-.52 0-1.04.2-1.43.59L10.3 9.45l-7.72 7.72c-.78.78-.78 2.05 0 2.83L4 21.41c.39.39.9.59 1.41.59.51 0 1.02-.2 1.41-.59l7.78-7.78 2.81-2.81c.8-.78.8-2.07 0-2.86zM5.41 20L4 18.59l7.72-7.72 1.47 1.35L5.41 20z\"/>\n",
              "  </svg>\n",
              "      </button>\n",
              "      \n",
              "  <style>\n",
              "    .colab-df-container {\n",
              "      display:flex;\n",
              "      flex-wrap:wrap;\n",
              "      gap: 12px;\n",
              "    }\n",
              "\n",
              "    .colab-df-convert {\n",
              "      background-color: #E8F0FE;\n",
              "      border: none;\n",
              "      border-radius: 50%;\n",
              "      cursor: pointer;\n",
              "      display: none;\n",
              "      fill: #1967D2;\n",
              "      height: 32px;\n",
              "      padding: 0 0 0 0;\n",
              "      width: 32px;\n",
              "    }\n",
              "\n",
              "    .colab-df-convert:hover {\n",
              "      background-color: #E2EBFA;\n",
              "      box-shadow: 0px 1px 2px rgba(60, 64, 67, 0.3), 0px 1px 3px 1px rgba(60, 64, 67, 0.15);\n",
              "      fill: #174EA6;\n",
              "    }\n",
              "\n",
              "    [theme=dark] .colab-df-convert {\n",
              "      background-color: #3B4455;\n",
              "      fill: #D2E3FC;\n",
              "    }\n",
              "\n",
              "    [theme=dark] .colab-df-convert:hover {\n",
              "      background-color: #434B5C;\n",
              "      box-shadow: 0px 1px 3px 1px rgba(0, 0, 0, 0.15);\n",
              "      filter: drop-shadow(0px 1px 2px rgba(0, 0, 0, 0.3));\n",
              "      fill: #FFFFFF;\n",
              "    }\n",
              "  </style>\n",
              "\n",
              "      <script>\n",
              "        const buttonEl =\n",
              "          document.querySelector('#df-b36a56e1-df73-4d5d-8021-b2f672821391 button.colab-df-convert');\n",
              "        buttonEl.style.display =\n",
              "          google.colab.kernel.accessAllowed ? 'block' : 'none';\n",
              "\n",
              "        async function convertToInteractive(key) {\n",
              "          const element = document.querySelector('#df-b36a56e1-df73-4d5d-8021-b2f672821391');\n",
              "          const dataTable =\n",
              "            await google.colab.kernel.invokeFunction('convertToInteractive',\n",
              "                                                     [key], {});\n",
              "          if (!dataTable) return;\n",
              "\n",
              "          const docLinkHtml = 'Like what you see? Visit the ' +\n",
              "            '<a target=\"_blank\" href=https://colab.research.google.com/notebooks/data_table.ipynb>data table notebook</a>'\n",
              "            + ' to learn more about interactive tables.';\n",
              "          element.innerHTML = '';\n",
              "          dataTable['output_type'] = 'display_data';\n",
              "          await google.colab.output.renderOutput(dataTable, element);\n",
              "          const docLink = document.createElement('div');\n",
              "          docLink.innerHTML = docLinkHtml;\n",
              "          element.appendChild(docLink);\n",
              "        }\n",
              "      </script>\n",
              "    </div>\n",
              "  </div>\n",
              "  "
            ]
          },
          "metadata": {},
          "execution_count": 4
        }
      ],
      "source": [
        "import os\n",
        "import pandas as pd\n",
        "import spacy \n",
        "df=pd.read_csv(\"/content/output.csv\")\n",
        "df.head(30)"
      ]
    },
    {
      "cell_type": "code",
      "source": [
        "df.isna().sum()"
      ],
      "metadata": {
        "colab": {
          "base_uri": "https://localhost:8080/"
        },
        "id": "nBIht0bgZJKd",
        "outputId": "60d2d7f4-a2ed-42d8-8f3f-d6533da0a659"
      },
      "execution_count": 5,
      "outputs": [
        {
          "output_type": "execute_result",
          "data": {
            "text/plain": [
              "Title    0\n",
              "dtype: int64"
            ]
          },
          "metadata": {},
          "execution_count": 5
        }
      ]
    },
    {
      "cell_type": "code",
      "source": [
        "df.shape"
      ],
      "metadata": {
        "id": "1qNPXDjrWHRv",
        "colab": {
          "base_uri": "https://localhost:8080/"
        },
        "outputId": "e9e3153e-c918-4490-e490-21696b295928"
      },
      "execution_count": 6,
      "outputs": [
        {
          "output_type": "execute_result",
          "data": {
            "text/plain": [
              "(21, 1)"
            ]
          },
          "metadata": {},
          "execution_count": 6
        }
      ]
    },
    {
      "cell_type": "code",
      "source": [
        "df = df['Title'].dropna()"
      ],
      "metadata": {
        "id": "nOiANcY70E0W"
      },
      "execution_count": 7,
      "outputs": []
    },
    {
      "cell_type": "code",
      "source": [
        "df.head(6)"
      ],
      "metadata": {
        "colab": {
          "base_uri": "https://localhost:8080/"
        },
        "id": "3Zo24XUW00ZV",
        "outputId": "a3351424-421b-460d-b546-9919271def2d"
      },
      "execution_count": 8,
      "outputs": [
        {
          "output_type": "execute_result",
          "data": {
            "text/plain": [
              "0    Our editors will review what you’ve submitted ...\n",
              "1     Our editors will review what you’ve submitted...\n",
              "2                                          Tesla, Inc.\n",
              "3     , formerly (2003–17) Tesla Motors,  American ...\n",
              "4      It was founded in 2003 by American entrepren...\n",
              "5     Tesla Motors was formed to develop an electri...\n",
              "Name: Title, dtype: object"
            ]
          },
          "metadata": {},
          "execution_count": 8
        }
      ]
    },
    {
      "cell_type": "code",
      "source": [
        "nlp=spacy.load(\"en_core_web_sm\")\n",
        "nlp.pipe_names"
      ],
      "metadata": {
        "colab": {
          "base_uri": "https://localhost:8080/"
        },
        "id": "gPDEu2ko05TB",
        "outputId": "109f030b-eb41-4ce5-fd22-c547272b53a1"
      },
      "execution_count": 9,
      "outputs": [
        {
          "output_type": "execute_result",
          "data": {
            "text/plain": [
              "['tok2vec', 'tagger', 'parser', 'attribute_ruler', 'lemmatizer', 'ner']"
            ]
          },
          "metadata": {},
          "execution_count": 9
        }
      ]
    },
    {
      "cell_type": "code",
      "source": [
        "nlp=spacy.load(\"en_core_web_sm\")\n",
        "nlp.pipe_names"
      ],
      "metadata": {
        "id": "jWEvLq3HGzmZ",
        "outputId": "ed7be369-b453-4621-c3c3-c98129c5b0d2",
        "colab": {
          "base_uri": "https://localhost:8080/"
        }
      },
      "execution_count": 10,
      "outputs": [
        {
          "output_type": "execute_result",
          "data": {
            "text/plain": [
              "['tok2vec', 'tagger', 'parser', 'attribute_ruler', 'lemmatizer', 'ner']"
            ]
          },
          "metadata": {},
          "execution_count": 10
        }
      ]
    },
    {
      "cell_type": "code",
      "source": [
        " textcat = nlp.create_pipe( \"textcat\", config={ })"
      ],
      "metadata": {
        "id": "kjghAJk0G7Ny"
      },
      "execution_count": 17,
      "outputs": []
    },
    {
      "cell_type": "code",
      "source": [
        "# Adding this to Pipe\n",
        "nlp.add_pipe(\"textcat\", last=True)\n"
      ],
      "metadata": {
        "id": "sFoc5E7YLAuF",
        "outputId": "53730c1d-0e55-4f99-e401-69112f5d54eb",
        "colab": {
          "base_uri": "https://localhost:8080/"
        }
      },
      "execution_count": 22,
      "outputs": [
        {
          "output_type": "execute_result",
          "data": {
            "text/plain": [
              "<spacy.pipeline.textcat.TextCategorizer at 0x7f995c5586a0>"
            ]
          },
          "metadata": {},
          "execution_count": 22
        }
      ]
    },
    {
      "cell_type": "code",
      "source": [
        "nlp.pipe_names"
      ],
      "metadata": {
        "id": "kjxfmi53pII4",
        "outputId": "fe015309-0bdf-47ed-95fd-f1403f372df2",
        "colab": {
          "base_uri": "https://localhost:8080/"
        }
      },
      "execution_count": 23,
      "outputs": [
        {
          "output_type": "execute_result",
          "data": {
            "text/plain": [
              "['tok2vec',\n",
              " 'tagger',\n",
              " 'parser',\n",
              " 'attribute_ruler',\n",
              " 'lemmatizer',\n",
              " 'ner',\n",
              " 'textcat']"
            ]
          },
          "metadata": {},
          "execution_count": 23
        }
      ]
    },
    {
      "cell_type": "code",
      "source": [
        "# Adding the labels to textcat\n",
        "textcat.add_label(\"POSITIVE\")\n",
        "textcat.add_label(\"NEGATIVE\")"
      ],
      "metadata": {
        "id": "B-Gk_05wpOz3",
        "outputId": "97aeb89f-b56e-494b-ff98-4ab68132f188",
        "colab": {
          "base_uri": "https://localhost:8080/"
        }
      },
      "execution_count": 24,
      "outputs": [
        {
          "output_type": "execute_result",
          "data": {
            "text/plain": [
              "1"
            ]
          },
          "metadata": {},
          "execution_count": 24
        }
      ]
    },
    {
      "cell_type": "code",
      "source": [
        "textcat.labels"
      ],
      "metadata": {
        "id": "QEJfRrUXpZs5",
        "outputId": "7510f2ca-5c7f-4bc2-8430-683514ec9818",
        "colab": {
          "base_uri": "https://localhost:8080/"
        }
      },
      "execution_count": 25,
      "outputs": [
        {
          "output_type": "execute_result",
          "data": {
            "text/plain": [
              "('POSITIVE', 'NEGATIVE')"
            ]
          },
          "metadata": {},
          "execution_count": 25
        }
      ]
    },
    {
      "cell_type": "markdown",
      "source": [
        "# New Section"
      ],
      "metadata": {
        "id": "-4x8R5OPUtwu"
      }
    },
    {
      "cell_type": "code",
      "source": [
        "import requests\n",
        "from bs4 import BeautifulSoup\n",
        "import re\n",
        "import os \n",
        "import pandas as pd\n",
        "\n",
        "x=input(\"Enter URL : \")\n",
        "r=requests.get(x)\n",
        "para=\"\"\n",
        "tree = BeautifulSoup(r.content, 'html.parser')\n",
        "good_html = tree.prettify()\n",
        "for hd in tree.find_all(\"h1\"):\n",
        "    hde=hd.text\n",
        "    print(\"HEADD - \", hde, \"\\n\")\n",
        "for ra in tree.find_all(\"p\"):\n",
        "    para1=ra.text\n",
        "    para+=para1\n",
        "\n",
        "concat_para=para.replace('.','.\\n ')\n",
        "print(concat_para)\n",
        "\n",
        "f=open(\"Para_Swap.txt\", \"w\")\n",
        "f.write(\"Title\\n\")\n",
        "f.write(concat_para)\n",
        "f.close()\n",
        "\n"
      ],
      "metadata": {
        "colab": {
          "base_uri": "https://localhost:8080/"
        },
        "id": "YZ6sBkQeUvZu",
        "outputId": "027af244-599f-474a-bffc-500b9d04f42d"
      },
      "execution_count": 2,
      "outputs": [
        {
          "output_type": "stream",
          "name": "stdout",
          "text": [
            "Enter URL : https://www.britannica.com/topic/Tesla-Motors\n",
            "HEADD -  Tesla, Inc. \n",
            "\n",
            "Our editors will review what you’ve submitted and determine whether to revise the article.\n",
            " Our editors will review what you’ve submitted and determine whether to revise the article.\n",
            " Tesla, Inc.\n",
            " , formerly (2003–17) Tesla Motors,  American manufacturer of electric automobiles, solar panels, and batteries for cars and home power storage.\n",
            "  It was founded in 2003 by American entrepreneurs Martin Eberhard and Marc Tarpenning and was named after Serbian American inventor Nikola Tesla.\n",
            " Tesla Motors was formed to develop an electric sports car.\n",
            "  Eberhard was Tesla’s chief executive officer (CEO) and Tarpenning its chief financial officer (CFO).\n",
            "  Funding for the company was obtained from a variety of sources, most notably PayPal cofounder Elon Musk, who contributed more than $30 million to the new venture and served as chairman of the company, beginning in 2004.\n",
            " In 2008 Tesla Motors released its first car, the completely electric Roadster.\n",
            "  In company tests, it achieved 245 miles (394 km) on a single charge, a range unprecedented for a production electric car.\n",
            "  Additional tests showed that its performance was comparable to that of many gasoline-powered sports cars: the Roadster could accelerate from 0 to 60 miles (96 km) per hour in less than four seconds and could reach a top speed of 125 miles (200 km) per hour.\n",
            "  The lightweight car body was made of carbon fibre.\n",
            "  The Roadster produced no tailpipe emissions, as it did not use an internal-combustion engine.\n",
            "  Tesla Motors found that the car attained efficiency ratings that were equivalent to a gasoline mileage of 135 miles per gallon (57 km per litre).\n",
            "  The vehicle’s electric motor was powered by lithium-ion cells—often used in laptop-computer batteries—that could be recharged from a standard electrical outlet.\n",
            "  Despite a federal tax credit of $7,500 for purchasing an electric vehicle, the Roadster’s cost of $109,000 made it a luxury item.\n",
            " In late 2007 Eberhard resigned as CEO and president of technology and joined the advisory board of the company.\n",
            "  It was announced in 2008 that he had left the company, though he remained a shareholder.\n",
            "  Tarpenning, who was vice president of electrical engineering, supervising the development of electronic and software systems for the Roadster, also left the company in 2008.\n",
            "  Musk took over as CEO.\n",
            "  In 2010 Tesla’s initial public offering raised some $226 million.\n",
            " \n"
          ]
        }
      ]
    },
    {
      "cell_type": "code",
      "source": [
        "import pandas as pd\n",
        "\n",
        "df = pd.read_csv('Para_Swap.txt', sep='\\t')\n",
        "df.to_csv('output.csv', index=False)\n",
        "\n",
        "# read the .txt file\n",
        "# write the .csv file\n"
      ],
      "metadata": {
        "id": "uQARQCCthH4b"
      },
      "execution_count": 3,
      "outputs": []
    },
    {
      "cell_type": "code",
      "source": [],
      "metadata": {
        "id": "B-tduUnT0xsL"
      },
      "execution_count": null,
      "outputs": []
    },
    {
      "cell_type": "code",
      "source": [],
      "metadata": {
        "id": "SpHAhpZDpDqX"
      },
      "execution_count": null,
      "outputs": []
    },
    {
      "cell_type": "code",
      "source": [],
      "metadata": {
        "id": "ZCPPratcpGVO"
      },
      "execution_count": null,
      "outputs": []
    }
  ]
}